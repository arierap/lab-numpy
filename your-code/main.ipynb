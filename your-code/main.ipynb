{
 "cells": [
  {
   "cell_type": "markdown",
   "metadata": {},
   "source": [
    "# Intrduction to NumPy\n",
    "\n",
    "\n",
    "#### 1. Import NumPy under the name np."
   ]
  },
  {
   "cell_type": "code",
   "execution_count": 63,
   "metadata": {},
   "outputs": [],
   "source": [
    "# your code here\n",
    "\n",
    "import numpy as np"
   ]
  },
  {
   "cell_type": "markdown",
   "metadata": {},
   "source": [
    "#### 2. Print your NumPy version."
   ]
  },
  {
   "cell_type": "code",
   "execution_count": 64,
   "metadata": {},
   "outputs": [
    {
     "data": {
      "text/plain": [
       "'1.18.1'"
      ]
     },
     "execution_count": 64,
     "metadata": {},
     "output_type": "execute_result"
    }
   ],
   "source": [
    "# your code here\n",
    "\n",
    "np.version.version\n"
   ]
  },
  {
   "cell_type": "markdown",
   "metadata": {},
   "source": [
    "#### 3. Generate a 2x3x5 3-dimensional array with random values. Assign the array to variable *a*.\n",
    "**Challenge**: there are at least three easy ways that use numpy to generate random arrays. How many ways can you find?"
   ]
  },
  {
   "cell_type": "code",
   "execution_count": 65,
   "metadata": {},
   "outputs": [
    {
     "name": "stdout",
     "output_type": "stream",
     "text": [
      "[[[0.20098829 0.20007665 0.01719438 0.77564785 0.18235778]\n",
      "  [0.92587609 0.57952151 0.35364421 0.6829663  0.37002269]\n",
      "  [0.34280601 0.79738021 0.80164414 0.70575892 0.19080982]]\n",
      "\n",
      " [[0.73406837 0.03542245 0.81711119 0.01886439 0.26646413]\n",
      "  [0.2056086  0.86062753 0.11078085 0.1205377  0.42303821]\n",
      "  [0.90243861 0.15523308 0.01614843 0.19717372 0.46021998]]]\n",
      "30\n",
      "(2, 3, 5)\n"
     ]
    }
   ],
   "source": [
    "# Method 1\n",
    "a = np.random.random ((2,3,5))\n",
    "\n",
    "print(a)\n",
    "print(a.size)\n",
    "print(a.shape)"
   ]
  },
  {
   "cell_type": "code",
   "execution_count": 66,
   "metadata": {},
   "outputs": [
    {
     "name": "stdout",
     "output_type": "stream",
     "text": [
      "[[[ 0  1  2  3  4]\n",
      "  [ 5  6  7  8  9]\n",
      "  [10 11 12 13 14]]\n",
      "\n",
      " [[15 16 17 18 19]\n",
      "  [20 21 22 23 24]\n",
      "  [25 26 27 28 29]]]\n",
      "30\n",
      "(2, 3, 5)\n"
     ]
    }
   ],
   "source": [
    "# Method 2\n",
    "\n",
    "a_2 = np.arange(30).reshape(2,3,5)\n",
    "a_2\n",
    "\n",
    "print(a_2)\n",
    "print(a_2.size)\n",
    "print(a_2.shape)"
   ]
  },
  {
   "cell_type": "code",
   "execution_count": 67,
   "metadata": {},
   "outputs": [
    {
     "name": "stdout",
     "output_type": "stream",
     "text": [
      "[[[0.00e+000 4.94e-324 9.88e-324 1.48e-323 1.98e-323]\n",
      "  [2.47e-323 2.96e-323 3.46e-323 3.95e-323 4.45e-323]\n",
      "  [4.94e-323 5.43e-323 5.93e-323 6.42e-323 6.92e-323]]\n",
      "\n",
      " [[7.41e-323 7.91e-323 8.40e-323 8.89e-323 9.39e-323]\n",
      "  [9.88e-323 1.04e-322 1.09e-322 1.14e-322 1.19e-322]\n",
      "  [1.24e-322 1.28e-322 1.33e-322 1.38e-322 1.43e-322]]]\n",
      "30\n",
      "(2, 3, 5)\n"
     ]
    }
   ],
   "source": [
    "# Method 3\n",
    "\n",
    "a_3=np.empty((2,3,5))\n",
    "\n",
    "print(a_3)\n",
    "print(a_3.size)\n",
    "print(a_3.shape)"
   ]
  },
  {
   "cell_type": "markdown",
   "metadata": {},
   "source": [
    "#### 4. Print *a*.\n"
   ]
  },
  {
   "cell_type": "code",
   "execution_count": 68,
   "metadata": {},
   "outputs": [
    {
     "name": "stdout",
     "output_type": "stream",
     "text": [
      "[[[0.20098829 0.20007665 0.01719438 0.77564785 0.18235778]\n",
      "  [0.92587609 0.57952151 0.35364421 0.6829663  0.37002269]\n",
      "  [0.34280601 0.79738021 0.80164414 0.70575892 0.19080982]]\n",
      "\n",
      " [[0.73406837 0.03542245 0.81711119 0.01886439 0.26646413]\n",
      "  [0.2056086  0.86062753 0.11078085 0.1205377  0.42303821]\n",
      "  [0.90243861 0.15523308 0.01614843 0.19717372 0.46021998]]]\n"
     ]
    }
   ],
   "source": [
    "# your code here\n",
    "\n",
    "print(a)"
   ]
  },
  {
   "cell_type": "markdown",
   "metadata": {},
   "source": [
    "#### 5. Create a 5x2x3 3-dimensional array with all values equaling 1. Assign the array to variable *b*."
   ]
  },
  {
   "cell_type": "code",
   "execution_count": 69,
   "metadata": {},
   "outputs": [],
   "source": [
    "# your code here\n",
    "\n",
    "b = np.ones((5,2,3))"
   ]
  },
  {
   "cell_type": "markdown",
   "metadata": {},
   "source": [
    "#### 6. Print *b*.\n"
   ]
  },
  {
   "cell_type": "code",
   "execution_count": 70,
   "metadata": {},
   "outputs": [
    {
     "name": "stdout",
     "output_type": "stream",
     "text": [
      "[[[1. 1. 1.]\n",
      "  [1. 1. 1.]]\n",
      "\n",
      " [[1. 1. 1.]\n",
      "  [1. 1. 1.]]\n",
      "\n",
      " [[1. 1. 1.]\n",
      "  [1. 1. 1.]]\n",
      "\n",
      " [[1. 1. 1.]\n",
      "  [1. 1. 1.]]\n",
      "\n",
      " [[1. 1. 1.]\n",
      "  [1. 1. 1.]]]\n"
     ]
    }
   ],
   "source": [
    "# your code here\n",
    "\n",
    "print(b)"
   ]
  },
  {
   "cell_type": "markdown",
   "metadata": {},
   "source": [
    "#### 7. Do *a* and *b* have the same size? How do you prove that in Python code?"
   ]
  },
  {
   "cell_type": "code",
   "execution_count": 71,
   "metadata": {},
   "outputs": [
    {
     "data": {
      "text/plain": [
       "True"
      ]
     },
     "execution_count": 71,
     "metadata": {},
     "output_type": "execute_result"
    }
   ],
   "source": [
    "# your code here\n",
    "\n",
    "a.size == b.size\n",
    "\n"
   ]
  },
  {
   "cell_type": "markdown",
   "metadata": {},
   "source": [
    "#### 8. Are you able to add *a* and *b*? Why or why not?\n"
   ]
  },
  {
   "cell_type": "code",
   "execution_count": 72,
   "metadata": {},
   "outputs": [
    {
     "name": "stdout",
     "output_type": "stream",
     "text": [
      "(2, 3, 5)\n",
      "(5, 2, 3)\n"
     ]
    }
   ],
   "source": [
    "# your answer here\n",
    "\n",
    "# np.add(a,b)\n",
    "\n",
    "print(a.shape)\n",
    "\n",
    "print(b.shape)\n",
    "\n",
    "# Although, both arrays have the same number of elements, the array a and the array b cannot be added \n",
    "# to one another, given the array have different shapes.\n",
    "\n"
   ]
  },
  {
   "cell_type": "markdown",
   "metadata": {},
   "source": [
    "#### 9. Transpose *b* so that it has the same structure of *a* (i.e. become a 2x3x5 array). Assign the transposed array to variable *c*."
   ]
  },
  {
   "cell_type": "code",
   "execution_count": 73,
   "metadata": {},
   "outputs": [
    {
     "name": "stdout",
     "output_type": "stream",
     "text": [
      "(5, 3, 2)\n",
      "(2, 3, 5)\n"
     ]
    }
   ],
   "source": [
    "# your code here\n",
    "\n",
    "# Since the shape of a is (2, 3, 5) and we need c to have the following shape (2,3,5), \n",
    "# transposing from the form (5, 3, 2). Therefore we need to reshape B to (5,3,2)\n",
    "\n",
    "b = np.arange(30).reshape(5,3,2)\n",
    "\n",
    "print(b.shape)\n",
    "\n",
    "\n",
    "c = b.transpose()\n",
    "print(c.shape)"
   ]
  },
  {
   "cell_type": "markdown",
   "metadata": {},
   "source": [
    "#### 10. Try to add *a* and *c*. Now it should work. Assign the sum to variable *d*. But why does it work now?"
   ]
  },
  {
   "cell_type": "code",
   "execution_count": 74,
   "metadata": {},
   "outputs": [
    {
     "name": "stdout",
     "output_type": "stream",
     "text": [
      "(2, 3, 5)\n",
      "(2, 3, 5)\n",
      "[[[ 0.20098829  6.20007665 12.01719438 18.77564785 24.18235778]\n",
      "  [ 2.92587609  8.57952151 14.35364421 20.6829663  26.37002269]\n",
      "  [ 4.34280601 10.79738021 16.80164414 22.70575892 28.19080982]]\n",
      "\n",
      " [[ 1.73406837  7.03542245 13.81711119 19.01886439 25.26646413]\n",
      "  [ 3.2056086   9.86062753 15.11078085 21.1205377  27.42303821]\n",
      "  [ 5.90243861 11.15523308 17.01614843 23.19717372 29.46021998]]]\n"
     ]
    }
   ],
   "source": [
    "# your code/answer here\n",
    "\n",
    "# Check current shapes of both arrays and confirm they look the same\n",
    "\n",
    "print(a.shape)\n",
    "print(c.shape)\n",
    "\n",
    "d = np.add(a,c)\n",
    "\n",
    "print(d)\n",
    "\n",
    "# The addition amongs both arrays now works given they both have the same shape"
   ]
  },
  {
   "cell_type": "markdown",
   "metadata": {},
   "source": [
    "#### 11. Print *a* and *d*. Notice the difference and relation of the two array in terms of the values? Explain."
   ]
  },
  {
   "cell_type": "code",
   "execution_count": 75,
   "metadata": {},
   "outputs": [
    {
     "name": "stdout",
     "output_type": "stream",
     "text": [
      "[[[0.20098829 0.20007665 0.01719438 0.77564785 0.18235778]\n",
      "  [0.92587609 0.57952151 0.35364421 0.6829663  0.37002269]\n",
      "  [0.34280601 0.79738021 0.80164414 0.70575892 0.19080982]]\n",
      "\n",
      " [[0.73406837 0.03542245 0.81711119 0.01886439 0.26646413]\n",
      "  [0.2056086  0.86062753 0.11078085 0.1205377  0.42303821]\n",
      "  [0.90243861 0.15523308 0.01614843 0.19717372 0.46021998]]]\n",
      "[[[ 0.20098829  6.20007665 12.01719438 18.77564785 24.18235778]\n",
      "  [ 2.92587609  8.57952151 14.35364421 20.6829663  26.37002269]\n",
      "  [ 4.34280601 10.79738021 16.80164414 22.70575892 28.19080982]]\n",
      "\n",
      " [[ 1.73406837  7.03542245 13.81711119 19.01886439 25.26646413]\n",
      "  [ 3.2056086   9.86062753 15.11078085 21.1205377  27.42303821]\n",
      "  [ 5.90243861 11.15523308 17.01614843 23.19717372 29.46021998]]]\n"
     ]
    }
   ],
   "source": [
    "# your code/answer here\n",
    "\n",
    "print(a)\n",
    "print(d)\n",
    "\n",
    "# array d is an addition of 1. to each element of array c. Although the format in terms of decimals has changed in array d."
   ]
  },
  {
   "cell_type": "markdown",
   "metadata": {},
   "source": [
    "#### 12. Multiply *a* and *c*. Assign the result to *e*."
   ]
  },
  {
   "cell_type": "code",
   "execution_count": 76,
   "metadata": {},
   "outputs": [
    {
     "name": "stdout",
     "output_type": "stream",
     "text": [
      "[[[ 0.          1.20045989  0.20633255 13.96166131  4.3765867 ]\n",
      "  [ 1.85175219  4.63617206  4.95101893 13.65932593  9.62058998]\n",
      "  [ 1.37122402  7.97380207 12.82630625 15.52669623  5.342675  ]]\n",
      "\n",
      " [[ 0.73406837  0.24795716 10.62244547  0.35842346  6.66160318]\n",
      "  [ 0.6168258   7.74564777  1.66171272  2.53129177 11.4220316 ]\n",
      "  [ 4.51219307  1.70756393  0.27452327  4.53499557 13.34637951]]]\n"
     ]
    }
   ],
   "source": [
    "# your code here\n",
    "\n",
    "e = np.multiply (a,c)\n",
    "\n",
    "print(e)"
   ]
  },
  {
   "cell_type": "markdown",
   "metadata": {},
   "source": [
    "#### 13. Does *e* equal to *a*? Why or why not?\n"
   ]
  },
  {
   "cell_type": "code",
   "execution_count": 77,
   "metadata": {},
   "outputs": [
    {
     "data": {
      "text/plain": [
       "array([[[False, False, False, False, False],\n",
       "        [False, False, False, False, False],\n",
       "        [False, False, False, False, False]],\n",
       "\n",
       "       [[ True, False, False, False, False],\n",
       "        [False, False, False, False, False],\n",
       "        [False, False, False, False, False]]])"
      ]
     },
     "execution_count": 77,
     "metadata": {},
     "output_type": "execute_result"
    }
   ],
   "source": [
    "# your code/answer here\n",
    "\n",
    "e == a\n",
    "\n",
    "# No it does not."
   ]
  },
  {
   "cell_type": "markdown",
   "metadata": {},
   "source": [
    "#### 14. Identify the max, min, and mean values in *d*. Assign those values to variables *d_max*, *d_min* and *d_mean*."
   ]
  },
  {
   "cell_type": "code",
   "execution_count": 81,
   "metadata": {},
   "outputs": [
    {
     "name": "stdout",
     "output_type": "stream",
     "text": [
      "The max element of array d is  :  29.46021998294247\n",
      "The min element of array d is  :  0.20098829336925172\n",
      "The mean of array d is : 14.91501440321929\n"
     ]
    }
   ],
   "source": [
    "# your code here\n",
    "d_max = np.max(d)\n",
    " \n",
    "print('The max element of array d is  : ', d_max)\n",
    "\n",
    "d_min = np.min(d)\n",
    " \n",
    "print('The min element of array d is  : ', d_min)\n",
    "\n",
    "d_mean = np.mean(d)\n",
    "print(\"The mean of array d is :\", d_mean)"
   ]
  },
  {
   "cell_type": "markdown",
   "metadata": {},
   "source": [
    "#### 15. Now we want to label the values in *d*. First create an empty array *f* with the same shape (i.e. 2x3x5) as *d* using `np.empty`.\n"
   ]
  },
  {
   "cell_type": "code",
   "execution_count": 82,
   "metadata": {},
   "outputs": [],
   "source": [
    "# your code here\n",
    "\n",
    "f=np.empty((2,3,5))\n",
    "\n"
   ]
  },
  {
   "cell_type": "markdown",
   "metadata": {},
   "source": [
    "#### 16. Populate the values in *f*. \n",
    "\n",
    "For each value in *d*, if it's larger than *d_min* but smaller than *d_mean*, assign 25 to the corresponding value in *f*. If a value in *d* is larger than *d_mean* but smaller than *d_max*, assign 75 to the corresponding value in *f*. If a value equals to *d_mean*, assign 50 to the corresponding value in *f*. Assign 0 to the corresponding value(s) in *f* for *d_min* in *d*. Assign 100 to the corresponding value(s) in *f* for *d_max* in *d*. In the end, f should have only the following values: 0, 25, 50, 75, and 100.\n",
    "\n",
    "**Note**: you don't have to use Numpy in this question."
   ]
  },
  {
   "cell_type": "code",
   "execution_count": 86,
   "metadata": {},
   "outputs": [
    {
     "name": "stdout",
     "output_type": "stream",
     "text": [
      "[[[0, 25, 25, 75, 75], [25, 25, 25, 75, 75], [25, 25, 75, 75, 75]], [[25, 25, 25, 75, 75], [25, 25, 75, 75, 75], [25, 25, 75, 75, 100]]]\n"
     ]
    }
   ],
   "source": [
    "f = [[[25 if d_min < i < d_mean\n",
    "      else 75 if d_mean < i < d_max\n",
    "      else 50 if i == d_mean\n",
    "      else 0 if i == d_min\n",
    "      else 100 for i in a] for a in c]for c in d]\n",
    "\n",
    "print(f)"
   ]
  },
  {
   "cell_type": "code",
   "execution_count": 84,
   "metadata": {},
   "outputs": [
    {
     "name": "stdout",
     "output_type": "stream",
     "text": [
      "[[[  0.  25.  25.  75.  75.]\n",
      "  [ 25.  25.  25.  75.  75.]\n",
      "  [ 25.  25.  75.  75.  75.]]\n",
      "\n",
      " [[ 25.  25.  25.  75.  75.]\n",
      "  [ 25.  25.  75.  75.  75.]\n",
      "  [ 25.  25.  75.  75. 100.]]]\n"
     ]
    }
   ],
   "source": [
    "# your code here\n",
    "\n",
    "for x in range(len(d)):\n",
    "    for y in range(len(d[x])):\n",
    "        for z in range(len(d[x][y])):\n",
    "            if d_mean > d[x][y][z] > d_min:\n",
    "                f[x][y][z] = 25\n",
    "            if d_max > d[x][y][z] > d_mean:\n",
    "                f[x][y][z] = 75\n",
    "            if d[x][y][z] == d_mean:\n",
    "                f[x][y][z] = 50\n",
    "            if d[x][y][z] == d_min:\n",
    "                f[x][y][z] = 0\n",
    "            if d[x][y][z] == d_max:\n",
    "                f[x][y][z] = 100\n",
    "print(f)         \n",
    "\n"
   ]
  },
  {
   "cell_type": "code",
   "execution_count": null,
   "metadata": {},
   "outputs": [],
   "source": [
    "# For the prior excercise, I dit not manage to get the actual \"reference\" result. Nonetheless, for my own records \n",
    "#I incldued different options I tried with my colleagues."
   ]
  },
  {
   "cell_type": "markdown",
   "metadata": {},
   "source": [
    "#### 17. Print *d* and *f*. Do you have your expected *f*?\n",
    "For instance, if your *d* is:\n",
    "```python\n",
    "[[[1.85836099, 1.67064465, 1.62576044, 1.40243961, 1.88454931],\n",
    "[1.75354326, 1.69403643, 1.36729252, 1.61415071, 1.12104981],\n",
    "[1.72201435, 1.1862918 , 1.87078449, 1.7726778 , 1.88180042]],\n",
    "[[1.44747908, 1.31673383, 1.02000951, 1.52218947, 1.97066381],\n",
    "[1.79129243, 1.74983003, 1.96028037, 1.85166831, 1.65450881],\n",
    "[1.18068344, 1.9587381 , 1.00656599, 1.93402165, 1.73514584]]]\n",
    "```\n",
    "Your *f* should be:\n",
    "```python\n",
    "[[[ 75.,  75.,  75.,  25.,  75.],\n",
    "[ 75.,  75.,  25.,  25.,  25.],\n",
    "[ 75.,  25.,  75.,  75.,  75.]],\n",
    "[[ 25.,  25.,  25.,  25., 100.],\n",
    "[ 75.,  75.,  75.,  75.,  75.],\n",
    "[ 25.,  75.,   0.,  75.,  75.]]]\n",
    "```"
   ]
  },
  {
   "cell_type": "code",
   "execution_count": 28,
   "metadata": {},
   "outputs": [
    {
     "name": "stdout",
     "output_type": "stream",
     "text": [
      "[[[ 0.56957097  6.7086351  12.31322789 18.12639673 24.15353727]\n",
      "  [ 2.57744664  8.78921103 14.29998336 20.27111445 26.97230942]\n",
      "  [ 4.71422331 10.95540676 16.6693698  22.13022478 28.01700564]]\n",
      "\n",
      " [[ 1.73201174  7.98611865 13.05523409 19.32691427 25.58117579]\n",
      "  [ 3.68793458  9.63226443 15.89578099 21.86328392 27.28004586]\n",
      "  [ 5.49124168 11.54335266 17.77859637 23.03064255 29.75450718]]]\n",
      "[[[ 0.          4.25181057  3.75873464  2.27514121  3.6848946 ]\n",
      "  [ 1.15489327  6.31368822  4.199767    5.42228893 25.28004501]\n",
      "  [ 2.85689326  9.55406758 10.70991685  2.86494507  0.47615787]]\n",
      "\n",
      " [[ 0.73201174  6.90283052  0.71804315  6.21137111 14.52939487]\n",
      "  [ 2.06380375  5.69037991 13.43671487 18.12896223  7.56123829]\n",
      "  [ 2.45620842  5.97687924 13.23613832  0.70477861 21.8807082 ]]]\n"
     ]
    }
   ],
   "source": [
    "# your code here\n",
    "\n",
    "print(d)\n",
    "\n",
    "print(f)"
   ]
  },
  {
   "cell_type": "markdown",
   "metadata": {},
   "source": [
    "#### 18. Bonus question: instead of using numbers (i.e. 0, 25, 50, 75, and 100), use string values  (\"A\", \"B\", \"C\", \"D\", and \"E\") to label the array elements. For the example above, the expected result is:\n",
    "\n",
    "```python\n",
    "[[[ 'D',  'D',  'D',  'B',  'D'],\n",
    "[ 'D',  'D',  'B',  'B',  'B'],\n",
    "[ 'D',  'B',  'D',  'D',  'D']],\n",
    "[[ 'B',  'B',  'B',  'B',  'E'],\n",
    "[ 'D',  'D',  'D',  'D',  'D'],\n",
    "[ 'B',  'D',   'A',  'D', 'D']]]\n",
    "```\n",
    "**Note**: you don't have to use Numpy in this question."
   ]
  },
  {
   "cell_type": "code",
   "execution_count": 29,
   "metadata": {},
   "outputs": [],
   "source": [
    "# your code here"
   ]
  }
 ],
 "metadata": {
  "kernelspec": {
   "display_name": "Python 3",
   "language": "python",
   "name": "python3"
  },
  "language_info": {
   "codemirror_mode": {
    "name": "ipython",
    "version": 3
   },
   "file_extension": ".py",
   "mimetype": "text/x-python",
   "name": "python",
   "nbconvert_exporter": "python",
   "pygments_lexer": "ipython3",
   "version": "3.8.1"
  }
 },
 "nbformat": 4,
 "nbformat_minor": 2
}
